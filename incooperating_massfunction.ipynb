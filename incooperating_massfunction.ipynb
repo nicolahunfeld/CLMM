{
 "cells": [
  {
   "cell_type": "code",
   "execution_count": 6,
   "metadata": {},
   "outputs": [
    {
     "data": {
      "image/png": "[encoded data removed]",
      "text/plain": [
       "<Figure size 432x288 with 1 Axes>"
      ]
     },
     "metadata": {
      "needs_background": "light"
     },
     "output_type": "display_data"
    },
    {
     "name": "stdout",
     "output_type": "stream",
     "text": [
      "[1.04413780e+13 6.19399377e+13 2.10953651e+14 ... 1.10570532e+13\n",
      " 1.74663460e+13 2.37617560e+13]\n"
     ]
    }
   ],
   "source": [
    "import matplotlib.pyplot as plt\n",
    "import numpy as np\n",
    "import random\n",
    "from scipy.interpolate import interp1d\n",
    "lower_limit =13\n",
    "upper_limit =15\n",
    "nbinhist=100\n",
    "norm = (upper_limit-lower_limit)/nbinhist\n",
    "\n",
    "M_star = 2.e14\n",
    "b=4*10**(-5)\n",
    "numsamp= 10**6\n",
    "numstep = 10**4\n",
    "\n",
    "#define x range 1e12-1e15 in num steps\n",
    "x = np.logspace(lower_limit,upper_limit,numstep)\n",
    "#define y values from the function \n",
    "y = (b*(1/(x/M_star))*np.exp(-(x)/M_star))\n",
    "\n",
    "#calculate cumulative sum of the y values (numpy)\n",
    "y_cm = np.cumsum(y)\n",
    "y_cm = y_cm-min(y_cm)\n",
    "y_cm = y_cm/np.max(y_cm)\n",
    "\n",
    "#invert x and y variables (flipping)and interpolate that function \n",
    "f = interp1d(y_cm,x , fill_value=(0,1))\n",
    "#Generate N random numbers uniformly between 0 & 1: u_i~U(0,1)\n",
    "ynew = np.random.random(numsamp)\n",
    "#Using the Inverse of the CDF and the values u_i, compute x_i = F^-1(u_i)\n",
    "x_samp = f(ynew) \n",
    "\n",
    "#plot it to see the result\n",
    "plt.hist(x_samp, bins=np.logspace(lower_limit,upper_limit,nbinhist),weights=np.repeat(numsamp/sum(y*x),numsamp)/norm)\n",
    "plt.yscale('log')\n",
    "plt.xscale('log')\n",
    "plt.plot(x, y, 'o')\n",
    "plt.show()\n",
    "\n",
    "print(x_samp) #cluster_mass\n"
   ]
  },
  {
   "cell_type": "code",
   "execution_count": null,
   "metadata": {},
   "outputs": [],
   "source": []
  },
  {
   "cell_type": "code",
   "execution_count": null,
   "metadata": {},
   "outputs": [],
   "source": []
  }
 ],
 "metadata": {
  "kernelspec": {
   "display_name": "Python 3",
   "language": "python",
   "name": "python3"
  },
  "language_info": {
   "codemirror_mode": {
    "name": "ipython",
    "version": 3
   },
   "file_extension": ".py",
   "mimetype": "text/x-python",
   "name": "python",
   "nbconvert_exporter": "python",
   "pygments_lexer": "ipython3",
   "version": "3.8.5"
  }
 },
 "nbformat": 4,
 "nbformat_minor": 4
}
