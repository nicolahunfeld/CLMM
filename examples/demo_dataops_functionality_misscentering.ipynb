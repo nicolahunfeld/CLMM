{
 "cells": [
  {
   "cell_type": "markdown",
   "metadata": {},
   "source": [
    "# Measure a Profile for Different Centerings\n",
    "\n",
    "_the LSST-DESC CLMM team_\n",
    "\n",
    "This notebook demonstrates how to use `CLMM` to measure a profile and how to estimate a WL halo mass from observations of a galaxy cluster for different misscenterings. It uses several functionalities of the support mock_data module to produce datasets of increasing complexity. In this notebook, we do the following:\n",
    "\n",
    "-Setting things up, with the proper imports. \n",
    "\n",
    "-Generating several datasets for the same cosmology but different misscenterings.\n",
    "\n",
    "-Computing the binned reduced tangential shear profile, for all the datasets, using logarithmic binning.\n",
    "\n",
    "-Plotting the tangential and the cross shears versus the radius to analyze the impact of misscentering.\n",
    "\n",
    "-Fitting the data to a halo mass model and analyzing the impact in the weak lensing mass."
   ]
  },
  {
   "cell_type": "markdown",
   "metadata": {},
   "source": [
    "## Note\n",
    "\n",
    "All functions in this section can be used passing the explicit arguments but are also internal functions of the cluster object, and should be used as such. They are just explicitely used here for clarity.\n",
    "\n",
    "Ex:\n",
    "\n",
    "```\n",
    "theta, g_t, g_x = compute_tangential_and_cross_components(ra_lens, dec_lens,\n",
    "                ra_source, dec_source, shear1, shear2, geometry=\"flat\")\n",
    "```\n",
    "\n",
    "should be done by the user as:\n",
    "\n",
    "```\n",
    "theta, g_t, g_x = cl.compute_tangential_and_cross_components(geometry=\"flat\")\n",
    "```"
   ]
  },
  {
   "cell_type": "code",
   "execution_count": null,
   "metadata": {},
   "outputs": [],
   "source": [
    "import matplotlib.pyplot as plt\n",
    "import clmm\n",
    "import clmm.dataops\n",
    "from clmm.dataops import compute_tangential_and_cross_components, make_radial_profile, make_bins\n",
    "from clmm.galaxycluster import GalaxyCluster\n",
    "import clmm.utils as u\n",
    "from clmm import Cosmology\n",
    "from clmm.support import mock_data as mock\n",
    "import clmm.galaxycluster as gc\n",
    "from numpy import random \n",
    "import numpy as np\n",
    "import clmm.dataops as da\n"
   ]
  },
  {
   "cell_type": "markdown",
   "metadata": {},
   "source": [
    "Make sure we know which version we're using"
   ]
  },
  {
   "cell_type": "code",
   "execution_count": null,
   "metadata": {},
   "outputs": [],
   "source": [
    "clmm.__version__"
   ]
  },
  {
   "cell_type": "markdown",
   "metadata": {},
   "source": [
    "### Define cosmology object"
   ]
  },
  {
   "cell_type": "code",
   "execution_count": null,
   "metadata": {},
   "outputs": [],
   "source": [
    "mock_cosmo = Cosmology(H0 = 70.0, Omega_dm0 = 0.27 - 0.045, Omega_b0 = 0.045, Omega_k0 = 0.0)\n",
    "np.random.seed(11)"
   ]
  },
  {
   "cell_type": "markdown",
   "metadata": {},
   "source": [
    "## 1. Generate cluster object from mock data\n",
    "In this example, the mock data includes: shape noise, galaxies drawn from redshift distribution and photoz errors."
   ]
  },
  {
   "cell_type": "markdown",
   "metadata": {},
   "source": [
    "Define toy cluster parameters for mock data generation"
   ]
  },
  {
   "cell_type": "code",
   "execution_count": null,
   "metadata": {},
   "outputs": [],
   "source": [
    "cosmo = mock_cosmo\n",
    "cluster_id = \"Awesome_cluster\"\n",
    "cluster_m = 1.e15\n",
    "cluster_z = 0.3\n",
    "concentration = 4\n",
    "ngals = 10000\n",
    "\n",
    "zsrc_min = cluster_z + 0.1 # we only want to draw background galaxies\n",
    "\n",
    "noisy_data_z = mock.generate_galaxy_catalog(cluster_m,\n",
    "                                            cluster_z,\n",
    "                                            concentration,\n",
    "                                            cosmo,\n",
    "                                            'chang13',\n",
    "                                            zsrc_min=zsrc_min,\n",
    "                                            shapenoise=0.005,\n",
    "                                            photoz_sigma_unscaled=0.05, ngals=ngals)"
   ]
  },
  {
   "cell_type": "markdown",
   "metadata": {},
   "source": [
    "Loading this into several CLMM cluster objects centered between (-0.2, -0.2) - (0.2, 0.2). The user can change the number of misscenterings if desired. We set the first center to (0,0) for comparison reasons, which corresponds to a == 0. After generating the CLMM cluster objects, we save them into mock data."
   ]
  },
  {
   "cell_type": "code",
   "execution_count": null,
   "metadata": {},
   "outputs": [],
   "source": [
    "center_number = 5\n",
    "for a in range (0, center_number):\n",
    "    if a == 0:\n",
    "        cluster_ra = 0.\n",
    "        cluster_dec = 0.\n",
    "    else:\n",
    "        cluster_ra = random.uniform(-0.2, 0.2)\n",
    "        cluster_dec =random.uniform(-0.2, 0.2)\n",
    "    GalaxyCluster(cluster_id, cluster_ra, cluster_dec, \n",
    "                                  cluster_z, noisy_data_z)\n",
    "    gc_object = clmm.GalaxyCluster(cluster_id, cluster_ra, cluster_dec,\n",
    "                               cluster_z, noisy_data_z)\n",
    "    gc_object.save(f'mock.gc{str(a)}.pkl')\n",
    "cluster_ra = random.uniform(-0.2, 0.2)\n",
    "cluster_dec =random.uniform(-0.2, 0.2)\n",
    "GalaxyCluster(cluster_id, cluster_ra, cluster_dec, \n",
    "                           cluster_z, noisy_data_z)\n",
    "gc_object = clmm.GalaxyCluster(cluster_id, cluster_ra, cluster_dec,\n",
    "                           cluster_z, noisy_data_z)\n"
   ]
  },
  {
   "cell_type": "markdown",
   "metadata": {},
   "source": [
    "### 2. Load cluster object containing:\n",
    "> Lens properties (ra_l, dec_l, z_l)\n",
    "\n",
    "> Source properties (ra_s, dec_s, e1, e2)\n",
    "### Note, if loading from mock data, use: \n",
    "> cl = gc.GalaxyCluster.load(\"GC_from_mock_data.pkl\")\n",
    "\n",
    "We need to load the data for all the different centerings and save it in a list."
   ]
  },
  {
   "cell_type": "code",
   "execution_count": null,
   "metadata": {},
   "outputs": [],
   "source": [
    "cluster_list = []\n",
    "for a in range (0,center_number):\n",
    "    cl = gc.GalaxyCluster.load(f\"mock.gc{str(a)}.pkl\")\n",
    "    print(\"Cluster info = ID:\", cl.unique_id, \"; ra:\", cl.ra,\n",
    "          \"; dec:\", cl.dec, \"; z_l :\", cl.z)\n",
    "    print(\"The number of source galaxies is :\", len(cl.galcat))\n",
    "    cluster_list.append(cl)"
   ]
  },
  {
   "cell_type": "markdown",
   "metadata": {},
   "source": [
    "## 2. Basic checks and plots \n",
    "- galaxy positions\n",
    "- redshift distribution\n",
    "\n",
    "For a better visualization, we plot all the different centers in the Cluster, represented by the red dots."
   ]
  },
  {
   "cell_type": "code",
   "execution_count": null,
   "metadata": {},
   "outputs": [],
   "source": [
    "f, ax = plt.subplots(1, 2, figsize=(12, 4))\n",
    "for cl in cluster_list:\n",
    "    ax[0].scatter(cl.galcat['ra'], cl.galcat['dec'], color='blue', s=1, alpha=0.3)\n",
    "    ax[0].plot(cl.ra, cl.dec, 'ro')\n",
    "    ax[0].set_ylabel('dec', fontsize=\"large\")\n",
    "    ax[0].set_xlabel('ra', fontsize=\"large\")\n",
    "\n",
    "    hist = ax[1].hist(cl.galcat['z'], bins=40)[0]\n",
    "\n",
    "    ax[1].axvline(cl.z, c='r', ls='--')\n",
    "    ax[1].set_xlabel('$z_{source}$', fontsize=\"large\")\n",
    "    xt = {t:f'{t}' for t in ax[1].get_xticks() if t!=0}\n",
    "    xt[cl.z] ='$z_{cl}$'\n",
    "    xto = sorted(list(xt.keys())+[cl.z])\n",
    "    ax[1].set_xticks(xto)\n",
    "    ax[1].set_xticklabels(xt[t] for t in xto)\n",
    "    ax[1].get_xticklabels()[xto.index(cl.z)].set_color('red')\n",
    "    plt.xlim(0, max(xto))\n",
    "plt.show()"
   ]
  },
  {
   "cell_type": "markdown",
   "metadata": {},
   "source": [
    "## 3. Compute and plot shear profiles\n",
    "\n",
    "Next, we generate the profiles for all the Cluster objects and save the profiles into a list. We also save the `gt`, `gx`, and `radius` columns of each `profile` into lists, so we can make a plot of these components. \n",
    "\n",
    "## Note\n",
    "If the user wants to observe the individual shear profile and plots for each cluster, uncomment the lines:\n",
    "> cl.profile.pprint(max_width=-1)\n",
    "\n",
    "> fig, ax = cl.plot_profiles(xscale='log')\n",
    "\n",
    "> cl.profile.show_in_notebook()"
   ]
  },
  {
   "cell_type": "code",
   "execution_count": null,
   "metadata": {},
   "outputs": [],
   "source": [
    "profile_list = []\n",
    "gt_list = []\n",
    "gx_list = []\n",
    "radius_list = []\n",
    "gt_err_list = []\n",
    "gx_err_list = []\n",
    "for cl in cluster_list:\n",
    "    theta, e_t, e_x = compute_tangential_and_cross_components(\n",
    "                    ra_lens=cl.ra, dec_lens=cl.dec,\n",
    "                    ra_source=cl.galcat['ra'], dec_source=cl.galcat['dec'],\n",
    "                    shear1=cl.galcat['e1'], shear2=cl.galcat['e2'],\n",
    "                    geometry=\"flat\")\n",
    "    cl.compute_tangential_and_cross_components(geometry=\"flat\", add=True)\n",
    "    cl.make_radial_profile(\"kpc\", cosmo=cosmo)\n",
    "    profile_list.append(cl.profile)\n",
    "    #cl.profile.pprint(max_width=-1)\n",
    "    #fig, ax = cl.plot_profiles(xscale='log')\n",
    "\n",
    "for b in profile_list:\n",
    "    gt_list.append(b['gt'].pformat())\n",
    "    gx_list.append(b['gx'].pformat())\n",
    "    gt_err_list.append(b['gt_err'].pformat())\n",
    "    gx_err_list.append(b['gx_err'].pformat())\n",
    "    radius_list.append(b['radius'].pformat())\n",
    "#cl.profile.show_in_notebook()"
   ]
  },
  {
   "cell_type": "markdown",
   "metadata": {},
   "source": [
    "Before we plot the tangential and cross components, we need to transform the columns into floats since the `pformat` method returns the columns as strings. Then we can plot the two graphs below."
   ]
  },
  {
   "cell_type": "code",
   "execution_count": null,
   "metadata": {},
   "outputs": [],
   "source": [
    "fig = plt.figure(figsize=(10, 6))\n",
    "for b in range(0,len(profile_list)):\n",
    "    plt.xscale('log')\n",
    "    radius_list[b][2:] = [float(a) for a in radius_list[b][2:]]\n",
    "    gt_list[b][2:] = [float(a) for a in gt_list[b][2:]]\n",
    "    gx_list[b][2:] = [float(a) for a in gx_list[b][2:]]\n",
    "    gt_err_list[b][2:] = [float(a) for a in gt_err_list[b][2:]]\n",
    "    gx_err_list[b][2:] = [float(a) for a in gx_err_list[b][2:]]\n",
    "    if b == 0:\n",
    "        fig.gca().errorbar(radius_list[b][2:],gt_list[b][2:],gt_err_list[b][2:],linestyle='-', \n",
    "             marker='o', label='Center (0,0)')\n",
    "    else:    \n",
    "        fig.gca().errorbar(radius_list[b][2:],gt_list[b][2:],gt_err_list[b][2:],linestyle='-', \n",
    "             marker='o', label =f'Center ({\"{:.2f}\".format(cluster_list[b].ra)}, {\"{:.2f}\".format(cluster_list[b].dec)})')\n",
    "\n",
    "plt.xlabel('log(radius)')\n",
    "plt.ylabel('gt')\n",
    "\n",
    "fig.legend()\n",
    "plt.show()\n"
   ]
  },
  {
   "cell_type": "code",
   "execution_count": null,
   "metadata": {},
   "outputs": [],
   "source": [
    "fig = plt.figure(figsize=(10, 6))\n",
    "for b in range(0,len(profile_list)):\n",
    "    plt.xscale('log')\n",
    "    if b == 0:\n",
    "        fig.gca().errorbar(radius_list[b][2:],gx_list[b][2:],gx_err_list[b][2:],linestyle='-', \n",
    "                 marker='o', label='Center (0,0)')\n",
    "    else:\n",
    "        fig.gca().errorbar(radius_list[b][2:],gx_list[b][2:],gx_err_list[b][2:],linestyle='-', \n",
    "                 marker='o', label =f'Center ({\"{:.2f}\".format(cluster_list[b].ra)}, {\"{:.2f}\".format(cluster_list[b].dec)})')\n",
    "    \n",
    "plt.xlabel('log(radius)')\n",
    "plt.ylabel('gx')\n",
    "fig.legend()\n",
    "plt.show()"
   ]
  },
  {
   "cell_type": "markdown",
   "metadata": {},
   "source": [
    "## 4. Compute the fitting Halo mass and Plot\n",
    "\n",
    "In this last step, we compute the fitting Halo mass with the `nfw` model and, using a plot, compare the impact of the Cluster misscenterings on the weak lensing mass."
   ]
  },
  {
   "cell_type": "code",
   "execution_count": null,
   "metadata": {},
   "outputs": [],
   "source": [
    "from clmm.support.sampler import samplers\n"
   ]
  },
  {
   "cell_type": "markdown",
   "metadata": {},
   "source": [
    "The function below defines the Halo model."
   ]
  },
  {
   "cell_type": "code",
   "execution_count": null,
   "metadata": {},
   "outputs": [],
   "source": [
    "logm_0 = random.uniform(13., 17., 1)[0]\n",
    "def nfw_to_shear_profile(logm, profile_info):\n",
    "    [r, gt_profile, z_src_rbin] = profile_info\n",
    "    m = 10.**logm\n",
    "    gt_model = clmm.compute_reduced_tangential_shear(r,\n",
    "                                                     m, concentration,\n",
    "                                                     cluster_z, z_src_rbin, cosmo,\n",
    "                                                     delta_mdef=200,\n",
    "                                                     halo_profile_model='nfw',\n",
    "                                                     validate_input=False\n",
    "                                                    )\n",
    "    return np.sum((gt_model - gt_profile)**2)"
   ]
  },
  {
   "cell_type": "code",
   "execution_count": null,
   "metadata": {},
   "outputs": [],
   "source": [
    "count = 1 #This value is just for a better visualization of the plot, so the are not in the same vertical line.\n",
    "for cl in cluster_list:\n",
    "    bin_edges1 = make_bins(0.01, 3.7, 50)\n",
    "    theta, e_t, e_x = compute_tangential_and_cross_components(\n",
    "                    ra_lens=cl.ra, dec_lens=cl.dec,\n",
    "                    ra_source=cl.galcat['ra'], dec_source=cl.galcat['dec'],\n",
    "                    shear1=cl.galcat['e1'], shear2=cl.galcat['e2'],\n",
    "                    geometry=\"flat\")\n",
    "    z=cl.z\n",
    "    z_s = cl.galcat['z']\n",
    "    res1 = da.make_radial_profile(\n",
    "        [e_t, e_x, z_s], theta, \"radians\", \"Mpc\", bins=bin_edges1, cosmo=cosmo, z_lens=z, include_empty_bins=False)\n",
    "    gt_profile1 = res1['p_0']\n",
    "    r1 = res1['radius']\n",
    "    z1 = res1['p_2']\n",
    "    #logm_est1 = samplers['minimize'](nfw_to_shear_profile, logm_0,args=[r1, gt_profile1, z1])[0]\n",
    "    logm_est1 = samplers['basinhopping'](nfw_to_shear_profile, logm_0, minimizer_kwargs={'args': ([r1, gt_profile1, z1])})[0]\n",
    "    m_est1 = 10.**logm_est1 # The user may also plot this value instead of the log.\n",
    "    print(f\"The log of the mass is :{np.log(m_est1)}, for the cluster centering:({cl.ra},{cl.dec})\")\n",
    "    plt.plot(count,np.log(m_est1), '.', label=f'({cl.ra},{cl.dec})')\n",
    "    count +=1\n",
    "#plt.legend(loc=\"upper left\")\n",
    "plt.show()\n"
   ]
  },
  {
   "cell_type": "code",
   "execution_count": null,
   "metadata": {},
   "outputs": [],
   "source": []
  }
 ],
 "metadata": {
  "kernelspec": {
   "display_name": "Python 3 (ipykernel)",
   "language": "python",
   "name": "python3"
  },
  "language_info": {
   "codemirror_mode": {
    "name": "ipython",
    "version": 3
   },
   "file_extension": ".py",
   "mimetype": "text/x-python",
   "name": "python",
   "nbconvert_exporter": "python",
   "pygments_lexer": "ipython3",
   "version": "3.9.8"
  }
 },
 "nbformat": 4,
 "nbformat_minor": 4
}
